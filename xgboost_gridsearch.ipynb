{
 "cells": [
  {
   "cell_type": "markdown",
   "id": "43f45b3d",
   "metadata": {},
   "source": [
    "# XGBoost Grid Search\n",
    "\n",
    "This notebook performs a basic experiment for hyperparameter tuning for XGBoost models using grid search."
   ]
  },
  {
   "cell_type": "code",
   "execution_count": 1,
   "id": "c80aea1a",
   "metadata": {},
   "outputs": [],
   "source": [
    "# Import libraries\n",
    "import pandas as pd\n",
    "import numpy as np\n",
    "from sklearn.model_selection import train_test_split, GridSearchCV\n",
    "from sklearn.preprocessing import StandardScaler\n",
    "from sklearn.impute import SimpleImputer\n",
    "from xgboost import XGBClassifier\n",
    "from xgboost_classifier import create_delta_features, preprocess_data\n",
    "from xgboost_grid_search import train_best_model"
   ]
  },
  {
   "cell_type": "code",
   "execution_count": 2,
   "id": "2a096526",
   "metadata": {},
   "outputs": [
    {
     "name": "stderr",
     "output_type": "stream",
     "text": [
      "/Users/aeg00011/Desktop/AD-Research/AD-Early-Prediction/xgboost_grid_search.py:73: RuntimeWarning: Mean of empty slice\n",
      "  lambda x: np.nanmean(x) if isinstance(x, list) else np.nan\n",
      "/Users/aeg00011/Desktop/AD-Research/AD-Early-Prediction/xgboost_grid_search.py:76: RuntimeWarning: All-NaN axis encountered\n",
      "  lambda x: np.nanmax(x) if isinstance(x, list) else np.nan\n"
     ]
    },
    {
     "ename": "NameError",
     "evalue": "name 'learnint_rate' is not defined",
     "output_type": "error",
     "traceback": [
      "\u001b[31m---------------------------------------------------------------------------\u001b[39m",
      "\u001b[31mNameError\u001b[39m                                 Traceback (most recent call last)",
      "\u001b[36mCell\u001b[39m\u001b[36m \u001b[39m\u001b[32mIn[2]\u001b[39m\u001b[32m, line 10\u001b[39m\n\u001b[32m      2\u001b[39m df = pd.read_csv(\u001b[33m'\u001b[39m\u001b[33mDataset_1/5visit_MCI_AD.csv\u001b[39m\u001b[33m'\u001b[39m)\n\u001b[32m      3\u001b[39m param_grid = {\n\u001b[32m      4\u001b[39m     \u001b[33m'\u001b[39m\u001b[33mn_estimators\u001b[39m\u001b[33m'\u001b[39m: [\u001b[32m100\u001b[39m, \u001b[32m200\u001b[39m, \u001b[32m300\u001b[39m],\n\u001b[32m      5\u001b[39m     \u001b[33m'\u001b[39m\u001b[33mmax_depth\u001b[39m\u001b[33m'\u001b[39m: [\u001b[32m3\u001b[39m, \u001b[32m5\u001b[39m, \u001b[32m7\u001b[39m],\n\u001b[32m   (...)\u001b[39m\u001b[32m      8\u001b[39m     \u001b[33m'\u001b[39m\u001b[33mcolsample_bytree\u001b[39m\u001b[33m'\u001b[39m: [\u001b[32m0.6\u001b[39m, \u001b[32m0.8\u001b[39m, \u001b[32m1.0\u001b[39m]\n\u001b[32m      9\u001b[39m }\n\u001b[32m---> \u001b[39m\u001b[32m10\u001b[39m \u001b[43mtrain_best_model\u001b[49m\u001b[43m(\u001b[49m\u001b[43mdf\u001b[49m\u001b[43m,\u001b[49m\u001b[43m \u001b[49m\u001b[33;43m'\u001b[39;49m\u001b[33;43mAD\u001b[39;49m\u001b[33;43m'\u001b[39;49m\u001b[43m,\u001b[49m\u001b[43m \u001b[49m\u001b[43mparam_grid\u001b[49m\u001b[43m,\u001b[49m\u001b[43m \u001b[49m\u001b[33;43m'\u001b[39;49m\u001b[33;43mgrid_search_results.csv\u001b[39;49m\u001b[33;43m'\u001b[39;49m\u001b[43m)\u001b[49m\n",
      "\u001b[36mFile \u001b[39m\u001b[32m~/Desktop/AD-Research/AD-Early-Prediction/xgboost_grid_search.py:336\u001b[39m, in \u001b[36mtrain_best_model\u001b[39m\u001b[34m(dataset, progression_type, param_grid, csv_path)\u001b[39m\n\u001b[32m    333\u001b[39m X_train, X_test, y_train, y_test = split_dataset(processed_df)\n\u001b[32m    335\u001b[39m \u001b[38;5;66;03m# Get the best set of hyperparameter from grid search, and save a cross-validation scores csv to the given path\u001b[39;00m\n\u001b[32m--> \u001b[39m\u001b[32m336\u001b[39m model_dict = \u001b[43mgrid_search\u001b[49m\u001b[43m(\u001b[49m\u001b[43mX_train\u001b[49m\u001b[43m,\u001b[49m\u001b[43m \u001b[49m\u001b[43my_train\u001b[49m\u001b[43m,\u001b[49m\u001b[43m \u001b[49m\u001b[43mparam_grid\u001b[49m\u001b[43m,\u001b[49m\u001b[43m \u001b[49m\u001b[43mcsv_path\u001b[49m\u001b[43m)\u001b[49m\n\u001b[32m    338\u001b[39m \u001b[38;5;66;03m# print out a full report\u001b[39;00m\n\u001b[32m    339\u001b[39m model, columns = build_model_final(X_train, X_test, y_train, y_test, model_dict)\n",
      "\u001b[36mFile \u001b[39m\u001b[32m~/Desktop/AD-Research/AD-Early-Prediction/xgboost_grid_search.py:316\u001b[39m, in \u001b[36mgrid_search\u001b[39m\u001b[34m(x, y, param_grid, csv_path)\u001b[39m\n\u001b[32m    314\u001b[39m \u001b[38;5;66;03m# record and update score\u001b[39;00m\n\u001b[32m    315\u001b[39m score = score_sum / \u001b[32m5\u001b[39m\n\u001b[32m--> \u001b[39m\u001b[32m316\u001b[39m scores.append([n_estimators, max_depth, \u001b[43mlearnint_rate\u001b[49m, subsample, colsample_bytree, score])\n\u001b[32m    318\u001b[39m \u001b[38;5;28;01mif\u001b[39;00m (score > best_score):\n\u001b[32m    319\u001b[39m     best_score = score\n",
      "\u001b[31mNameError\u001b[39m: name 'learnint_rate' is not defined"
     ]
    }
   ],
   "source": [
    "# Load and preprocess data (example: MCI to AD progression)\n",
    "df = pd.read_csv('Dataset_1/5visit_MCI_AD.csv')\n",
    "param_grid = {\n",
    "    'n_estimators': [100, 200, 300],\n",
    "    'max_depth': [3, 5, 7],\n",
    "    'learning_rate': [0.01, 0.1, 0.2],\n",
    "    'subsample': [0.6, 0.8, 1.0],\n",
    "    'colsample_bytree': [0.6, 0.8, 1.0]\n",
    "}\n",
    "train_best_model(df, 'AD', param_grid, 'grid_search_results.csv')"
   ]
  }
 ],
 "metadata": {
  "kernelspec": {
   "display_name": ".venv",
   "language": "python",
   "name": "python3"
  },
  "language_info": {
   "codemirror_mode": {
    "name": "ipython",
    "version": 3
   },
   "file_extension": ".py",
   "mimetype": "text/x-python",
   "name": "python",
   "nbconvert_exporter": "python",
   "pygments_lexer": "ipython3",
   "version": "3.11.2"
  }
 },
 "nbformat": 4,
 "nbformat_minor": 5
}
