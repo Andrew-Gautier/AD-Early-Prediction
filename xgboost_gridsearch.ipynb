{
 "cells": [
  {
   "cell_type": "markdown",
   "id": "43f45b3d",
   "metadata": {},
   "source": [
    "# XGBoost Grid Search\n",
    "\n",
    "This notebook performs a basic experiment for hyperparameter tuning for XGBoost models using grid search."
   ]
  },
  {
   "cell_type": "code",
   "execution_count": 1,
   "id": "c80aea1a",
   "metadata": {},
   "outputs": [],
   "source": [
    "# Import libraries\n",
    "import pandas as pd\n",
    "import numpy as np\n",
    "from sklearn.model_selection import train_test_split, GridSearchCV\n",
    "from sklearn.preprocessing import StandardScaler\n",
    "from sklearn.impute import SimpleImputer\n",
    "from xgboost import XGBClassifier\n",
    "from xgboost_classifier import create_delta_features, preprocess_data\n",
    "from xgboost_grid_search import train_best_model"
   ]
  },
  {
   "cell_type": "code",
   "execution_count": 2,
   "id": "2a096526",
   "metadata": {},
   "outputs": [
    {
     "name": "stderr",
     "output_type": "stream",
     "text": [
      "/Users/aeg00011/Desktop/AD-Research/AD-Early-Prediction/xgboost_grid_search.py:73: RuntimeWarning: Mean of empty slice\n",
      "  lambda x: np.nanmean(x) if isinstance(x, list) else np.nan\n",
      "/Users/aeg00011/Desktop/AD-Research/AD-Early-Prediction/xgboost_grid_search.py:76: RuntimeWarning: All-NaN axis encountered\n",
      "  lambda x: np.nanmax(x) if isinstance(x, list) else np.nan\n"
     ]
    },
    {
     "name": "stdout",
     "output_type": "stream",
     "text": [
      "Classification Report:\n",
      "              precision    recall  f1-score   support\n",
      "\n",
      "           0       0.33      0.50      0.40         2\n",
      "           1       0.96      0.92      0.94        26\n",
      "\n",
      "    accuracy                           0.89        28\n",
      "   macro avg       0.65      0.71      0.67        28\n",
      "weighted avg       0.92      0.89      0.90        28\n",
      "\n",
      "\n",
      "ROC AUC Score: 0.6923\n"
     ]
    },
    {
     "ename": "AttributeError",
     "evalue": "'tuple' object has no attribute 'y_true'",
     "output_type": "error",
     "traceback": [
      "\u001b[31m---------------------------------------------------------------------------\u001b[39m",
      "\u001b[31mAttributeError\u001b[39m                            Traceback (most recent call last)",
      "\u001b[36mCell\u001b[39m\u001b[36m \u001b[39m\u001b[32mIn[2]\u001b[39m\u001b[32m, line 10\u001b[39m\n\u001b[32m      2\u001b[39m df = pd.read_csv(\u001b[33m'\u001b[39m\u001b[33mDataset_1/5visit_MCI_AD.csv\u001b[39m\u001b[33m'\u001b[39m)\n\u001b[32m      3\u001b[39m param_grid = {\n\u001b[32m      4\u001b[39m     \u001b[33m'\u001b[39m\u001b[33mn_estimators\u001b[39m\u001b[33m'\u001b[39m: [\u001b[32m100\u001b[39m, \u001b[32m200\u001b[39m, \u001b[32m300\u001b[39m],\n\u001b[32m      5\u001b[39m     \u001b[33m'\u001b[39m\u001b[33mmax_depth\u001b[39m\u001b[33m'\u001b[39m: [\u001b[32m3\u001b[39m, \u001b[32m5\u001b[39m, \u001b[32m7\u001b[39m],\n\u001b[32m   (...)\u001b[39m\u001b[32m      8\u001b[39m     \u001b[33m'\u001b[39m\u001b[33mcolsample_bytree\u001b[39m\u001b[33m'\u001b[39m: [\u001b[32m0.6\u001b[39m, \u001b[32m0.8\u001b[39m, \u001b[32m1.0\u001b[39m]\n\u001b[32m      9\u001b[39m }\n\u001b[32m---> \u001b[39m\u001b[32m10\u001b[39m \u001b[43mtrain_best_model\u001b[49m\u001b[43m(\u001b[49m\u001b[43mdf\u001b[49m\u001b[43m,\u001b[49m\u001b[43m \u001b[49m\u001b[33;43m'\u001b[39;49m\u001b[33;43mAD\u001b[39;49m\u001b[33;43m'\u001b[39;49m\u001b[43m,\u001b[49m\u001b[43m \u001b[49m\u001b[43mparam_grid\u001b[49m\u001b[43m,\u001b[49m\u001b[43m \u001b[49m\u001b[33;43m'\u001b[39;49m\u001b[33;43mgrid_search_results.csv\u001b[39;49m\u001b[33;43m'\u001b[39;49m\u001b[43m)\u001b[49m\n",
      "\u001b[36mFile \u001b[39m\u001b[32m~/Desktop/AD-Research/AD-Early-Prediction/xgboost_grid_search.py:342\u001b[39m, in \u001b[36mtrain_best_model\u001b[39m\u001b[34m(dataset, progression_type, param_grid, csv_path)\u001b[39m\n\u001b[32m    339\u001b[39m model_dict = grid_search(X_train, y_train, param_grid, csv_path)\n\u001b[32m    341\u001b[39m \u001b[38;5;66;03m# print out a full report\u001b[39;00m\n\u001b[32m--> \u001b[39m\u001b[32m342\u001b[39m model, columns = \u001b[43mbuild_model_final\u001b[49m\u001b[43m(\u001b[49m\u001b[43mX_train\u001b[49m\u001b[43m,\u001b[49m\u001b[43m \u001b[49m\u001b[43mX_test\u001b[49m\u001b[43m,\u001b[49m\u001b[43m \u001b[49m\u001b[43my_train\u001b[49m\u001b[43m,\u001b[49m\u001b[43m \u001b[49m\u001b[43my_test\u001b[49m\u001b[43m,\u001b[49m\u001b[43m \u001b[49m\u001b[43mmodel_dict\u001b[49m\u001b[43m)\u001b[49m\n\u001b[32m    344\u001b[39m \u001b[38;5;28;01mreturn\u001b[39;00m model, columns\n",
      "\u001b[36mFile \u001b[39m\u001b[32m~/Desktop/AD-Research/AD-Early-Prediction/xgboost_grid_search.py:235\u001b[39m, in \u001b[36mbuild_model_final\u001b[39m\u001b[34m(X_train, X_test, y_train, y_test, model_dict)\u001b[39m\n\u001b[32m    233\u001b[39m roc_obj = (fpr, tpr)\n\u001b[32m    234\u001b[39m \u001b[38;5;66;03m# Calculate AUC and 95% confidence interval\u001b[39;00m\n\u001b[32m--> \u001b[39m\u001b[32m235\u001b[39m auc_value, (lower_ci, upper_ci) = \u001b[43mci_auc\u001b[49m\u001b[43m(\u001b[49m\n\u001b[32m    236\u001b[39m \u001b[43m    \u001b[49m\u001b[43mroc_obj\u001b[49m\u001b[43m,\u001b[49m\n\u001b[32m    237\u001b[39m \u001b[43m    \u001b[49m\u001b[43mmethod\u001b[49m\u001b[43m=\u001b[49m\u001b[33;43m\"\u001b[39;49m\u001b[33;43mbootstrap\u001b[39;49m\u001b[33;43m\"\u001b[39;49m\u001b[43m,\u001b[49m\n\u001b[32m    238\u001b[39m \u001b[43m    \u001b[49m\u001b[43mconf_level\u001b[49m\u001b[43m=\u001b[49m\u001b[32;43m0.95\u001b[39;49m\u001b[43m,\u001b[49m\n\u001b[32m    239\u001b[39m \u001b[43m    \u001b[49m\u001b[43mn_boot\u001b[49m\u001b[43m=\u001b[49m\u001b[32;43m100\u001b[39;49m\u001b[43m,\u001b[49m\n\u001b[32m    240\u001b[39m \u001b[43m    \u001b[49m\u001b[43mbounds\u001b[49m\u001b[43m=\u001b[49m\u001b[43m[\u001b[49m\u001b[32;43m0.6\u001b[39;49m\u001b[43m,\u001b[49m\u001b[43m \u001b[49m\u001b[32;43m1.0\u001b[39;49m\u001b[43m]\u001b[49m\u001b[43m,\u001b[49m\n\u001b[32m    241\u001b[39m \u001b[43m    \u001b[49m\u001b[43mfocus\u001b[49m\u001b[43m \u001b[49m\u001b[43m=\u001b[49m\u001b[33;43m\"\u001b[39;49m\u001b[33;43msensitivity\u001b[39;49m\u001b[33;43m\"\u001b[39;49m\n\u001b[32m    242\u001b[39m \u001b[43m\u001b[49m\u001b[43m)\u001b[49m\n\u001b[32m    244\u001b[39m \u001b[38;5;28mprint\u001b[39m(\u001b[33mf\u001b[39m\u001b[33m\"\u001b[39m\u001b[33mPartial AUC (boostrap): \u001b[39m\u001b[38;5;132;01m{\u001b[39;00mauc_value\u001b[38;5;132;01m:\u001b[39;00m\u001b[33m.3f\u001b[39m\u001b[38;5;132;01m}\u001b[39;00m\u001b[33m\"\u001b[39m)\n\u001b[32m    245\u001b[39m \u001b[38;5;28mprint\u001b[39m(\u001b[33mf\u001b[39m\u001b[33m\"\u001b[39m\u001b[33m95% Confidence Interval: (\u001b[39m\u001b[38;5;132;01m{\u001b[39;00mlower_ci\u001b[38;5;132;01m:\u001b[39;00m\u001b[33m.3f\u001b[39m\u001b[38;5;132;01m}\u001b[39;00m\u001b[33m, \u001b[39m\u001b[38;5;132;01m{\u001b[39;00mupper_ci\u001b[38;5;132;01m:\u001b[39;00m\u001b[33m.3f\u001b[39m\u001b[38;5;132;01m}\u001b[39;00m\u001b[33m)\u001b[39m\u001b[33m\"\u001b[39m)\n",
      "\u001b[36mFile \u001b[39m\u001b[32m~/Desktop/AD-Research/AD-Early-Prediction/.venv/lib/python3.11/site-packages/pauc/stats.py:355\u001b[39m, in \u001b[36mci_auc\u001b[39m\u001b[34m(roc, method, conf_level, n_boot, bounds, focus)\u001b[39m\n\u001b[32m    353\u001b[39m paucs = []\n\u001b[32m    354\u001b[39m \u001b[38;5;28;01mfor\u001b[39;00m _ \u001b[38;5;129;01min\u001b[39;00m \u001b[38;5;28mrange\u001b[39m(n_boot):\n\u001b[32m--> \u001b[39m\u001b[32m355\u001b[39m     idx = np.random.choice(\u001b[38;5;28mlen\u001b[39m(\u001b[43mroc\u001b[49m\u001b[43m.\u001b[49m\u001b[43my_true\u001b[49m), \u001b[38;5;28mlen\u001b[39m(roc.y_true), replace=\u001b[38;5;28;01mTrue\u001b[39;00m)\n\u001b[32m    356\u001b[39m     boot_roc = ROC(roc.y_true[idx], roc.y_score[idx])\n\u001b[32m    357\u001b[39m     paucs.append(boot_roc.partial_auc(**pauc_params))\n",
      "\u001b[31mAttributeError\u001b[39m: 'tuple' object has no attribute 'y_true'"
     ]
    }
   ],
   "source": [
    "# Load and preprocess data (example: MCI to AD progression)\n",
    "df = pd.read_csv('Dataset_1/5visit_MCI_AD.csv')\n",
    "param_grid = {\n",
    "    'n_estimators': [100, 200, 300],\n",
    "    'max_depth': [3, 5, 7],\n",
    "    'learning_rate': [0.01, 0.1, 0.2],\n",
    "    'subsample': [0.6, 0.8, 1.0],\n",
    "    'colsample_bytree': [0.6, 0.8, 1.0]\n",
    "}\n",
    "train_best_model(df, 'AD', param_grid, 'grid_search_results.csv')"
   ]
  }
 ],
 "metadata": {
  "kernelspec": {
   "display_name": ".venv",
   "language": "python",
   "name": "python3"
  },
  "language_info": {
   "codemirror_mode": {
    "name": "ipython",
    "version": 3
   },
   "file_extension": ".py",
   "mimetype": "text/x-python",
   "name": "python",
   "nbconvert_exporter": "python",
   "pygments_lexer": "ipython3",
   "version": "3.11.2"
  }
 },
 "nbformat": 4,
 "nbformat_minor": 5
}
