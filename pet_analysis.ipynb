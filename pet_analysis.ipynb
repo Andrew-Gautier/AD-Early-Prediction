{
 "cells": [
  {
   "cell_type": "markdown",
   "metadata": {},
   "source": [
    "AMYLOID GAAIN"
   ]
  },
  {
   "cell_type": "code",
   "execution_count": 4,
   "metadata": {},
   "outputs": [
    {
     "name": "stdout",
     "output_type": "stream",
     "text": [
      "Tracer 2 : PiB \n",
      "Tracer 3 : Flobetapir \n",
      "Tracer 4 : Florbetaben \n",
      "Tracer 5 : NAV4694\n",
      "\n",
      "Average time difference between scans and counts for each tracer. \n",
      "Tracer: 2, Average time difference: 519 days 14:37:30, Count: 125\n",
      "Tracer: 3, Average time difference: 719 days 08:00:00, Count: 24\n",
      "Tracer: 4, Average time difference: 708 days 07:23:04.615384616, Count: 50\n",
      "Tracer: 5, Average time difference: 326 days 04:00:00, Count: 11\n"
     ]
    },
    {
     "name": "stderr",
     "output_type": "stream",
     "text": [
      "C:\\Users\\Andrew\\AppData\\Local\\Temp\\ipykernel_5240\\796287513.py:23: SettingWithCopyWarning: \n",
      "A value is trying to be set on a copy of a slice from a DataFrame.\n",
      "Try using .loc[row_indexer,col_indexer] = value instead\n",
      "\n",
      "See the caveats in the documentation: https://pandas.pydata.org/pandas-docs/stable/user_guide/indexing.html#returning-a-view-versus-a-copy\n",
      "  df_two_scans['SCANDATE'] = pd.to_datetime(df_two_scans['SCANDATE'])\n",
      "C:\\Users\\Andrew\\AppData\\Local\\Temp\\ipykernel_5240\\796287513.py:25: DeprecationWarning: DataFrameGroupBy.apply operated on the grouping columns. This behavior is deprecated, and in a future version of pandas the grouping columns will be excluded from the operation. Either pass `include_groups=False` to exclude the groupings or explicitly select the grouping columns after groupby to silence this warning.\n",
      "  tracer_stats = tracer_groups.apply(lambda x: (x.groupby(x.columns[0])['SCANDATE'].apply(lambda y: y.max() - y.min()).mean(), len(x)))\n"
     ]
    }
   ],
   "source": [
    "import pandas as pd\n",
    "import glob\n",
    "import matplotlib.pyplot as plt\n",
    "def create_imaging_subjects_dataframe(csv_file):\n",
    "    dataframes = []\n",
    "    df = pd.read_csv(csv_file)\n",
    "    dataframes.append(df)\n",
    "\n",
    "    return df\n",
    "\n",
    "\n",
    "csv_file = 'PET\\\\amyloidpet_gaain.csv'\n",
    "df = create_imaging_subjects_dataframe(csv_file)\n",
    "num_subjects = df.iloc[:, 0].nunique()\n",
    "# num_subjects = 1718\n",
    "category_counts = df.groupby(df.columns[0]).size()\n",
    "participants_two_scans = category_counts[category_counts == 2].index\n",
    "df_two_scans = df[df[df.columns[0]].isin(participants_two_scans)]\n",
    "\n",
    "\n",
    "#average_age = df_two_scans['age'].mean()\n",
    "\n",
    "df_two_scans['SCANDATE'] = pd.to_datetime(df_two_scans['SCANDATE'])\n",
    "tracer_groups = df_two_scans.groupby('TRACER')\n",
    "tracer_stats = tracer_groups.apply(lambda x: (x.groupby(x.columns[0])['SCANDATE'].apply(lambda y: y.max() - y.min()).mean(), len(x)))\n",
    "\n",
    "# Print the statistics\n",
    "print('Tracer 2 : PiB', \"\\n\" 'Tracer 3 : Flobetapir',\"\\n\"  'Tracer 4 : Florbetaben',\"\\n\"  'Tracer 5 : NAV4694'\"\\n\" )\n",
    "print(\"Average time difference between scans and counts for each tracer. \")\n",
    "for tracer, stats in tracer_stats.items():\n",
    "    print(f\"Tracer: {tracer}, Average time difference: {stats[0]}, Count: {stats[1]}\")"
   ]
  },
  {
   "cell_type": "markdown",
   "metadata": {},
   "source": [
    "AMYLOID NPDKA\n"
   ]
  },
  {
   "cell_type": "code",
   "execution_count": 21,
   "metadata": {},
   "outputs": [
    {
     "name": "stdout",
     "output_type": "stream",
     "text": [
      "Average time difference between scans and counts for each tracer:\n",
      "Tracer: 2, Average time difference: 519 days 14:37:30, Count: 125\n",
      "Tracer: 3, Average time difference: 719 days 08:00:00, Count: 24\n",
      "Tracer: 4, Average time difference: 708 days 07:23:04.615384616, Count: 50\n",
      "Tracer: 5, Average time difference: 326 days 04:00:00, Count: 11\n"
     ]
    },
    {
     "name": "stderr",
     "output_type": "stream",
     "text": [
      "C:\\Users\\Andrew\\AppData\\Local\\Temp\\ipykernel_7160\\3734687105.py:21: SettingWithCopyWarning: \n",
      "A value is trying to be set on a copy of a slice from a DataFrame.\n",
      "Try using .loc[row_indexer,col_indexer] = value instead\n",
      "\n",
      "See the caveats in the documentation: https://pandas.pydata.org/pandas-docs/stable/user_guide/indexing.html#returning-a-view-versus-a-copy\n",
      "  df_two_scans['SCANDATE'] = pd.to_datetime(df_two_scans['SCANDATE'])\n",
      "C:\\Users\\Andrew\\AppData\\Local\\Temp\\ipykernel_7160\\3734687105.py:23: DeprecationWarning: DataFrameGroupBy.apply operated on the grouping columns. This behavior is deprecated, and in a future version of pandas the grouping columns will be excluded from the operation. Either pass `include_groups=False` to exclude the groupings or explicitly select the grouping columns after groupby to silence this warning.\n",
      "  tracer_stats = tracer_groups.apply(lambda x: (x.groupby(x.columns[0])['SCANDATE'].apply(lambda y: y.max() - y.min()).mean(), len(x)))\n"
     ]
    }
   ],
   "source": [
    "import pandas as pd\n",
    "import glob\n",
    "import matplotlib.pyplot as plt\n",
    "def create_imaging_subjects_dataframe(csv_file):\n",
    "    dataframes = []\n",
    "    df = pd.read_csv(csv_file)\n",
    "    dataframes.append(df)\n",
    "\n",
    "    return df\n",
    "\n",
    "\n",
    "csv_file = 'PET\\\\amyloidpet_npdka.csv'\n",
    "df = create_imaging_subjects_dataframe(csv_file)\n",
    "num_subjects = df.iloc[:, 0].nunique()\n",
    "# num_subjects = 1718\n",
    "category_counts = df.groupby(df.columns[0]).size()\n",
    "\n",
    "participants_two_scans = category_counts[category_counts == 2].index\n",
    "df_two_scans = df[df[df.columns[0]].isin(participants_two_scans)]\n",
    "\n",
    "df_two_scans['SCANDATE'] = pd.to_datetime(df_two_scans['SCANDATE'])\n",
    "tracer_groups = df_two_scans.groupby('TRACER')\n",
    "tracer_stats = tracer_groups.apply(lambda x: (x.groupby(x.columns[0])['SCANDATE'].apply(lambda y: y.max() - y.min()).mean(), len(x)))\n",
    "\n",
    "# Print the statistics\n",
    "\n",
    "print(\"Average time difference between scans and counts for each tracer:\")\n",
    "for tracer, stats in tracer_stats.items():\n",
    "    print(f\"Tracer: {tracer}, Average time difference: {stats[0]}, Count: {stats[1]}\")\n",
    "\n"
   ]
  },
  {
   "cell_type": "markdown",
   "metadata": {},
   "source": [
    "FDG_PET\n"
   ]
  },
  {
   "cell_type": "code",
   "execution_count": null,
   "metadata": {},
   "outputs": [],
   "source": []
  }
 ],
 "metadata": {
  "kernelspec": {
   "display_name": "venv",
   "language": "python",
   "name": "python3"
  },
  "language_info": {
   "codemirror_mode": {
    "name": "ipython",
    "version": 3
   },
   "file_extension": ".py",
   "mimetype": "text/x-python",
   "name": "python",
   "nbconvert_exporter": "python",
   "pygments_lexer": "ipython3",
   "version": "3.11.2"
  }
 },
 "nbformat": 4,
 "nbformat_minor": 2
}
