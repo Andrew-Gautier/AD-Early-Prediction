{
 "cells": [
  {
   "cell_type": "code",
   "execution_count": 13,
   "metadata": {},
   "outputs": [
    {
     "name": "stdout",
     "output_type": "stream",
     "text": [
      "Number of unique IDs: 323\n"
     ]
    }
   ],
   "source": [
    "import csv\n",
    "import ast\n",
    "\n",
    "# Path to the CSV file\n",
    "file_path = 'Cohorts\\\\2visit_nonprogressors.csv'\n",
    "\n",
    "# Set to store unique IDs\n",
    "unique_ids = set()\n",
    "\n",
    "# Read the CSV file\n",
    "with open(file_path, mode='r', newline='') as file:\n",
    "    reader = csv.reader(file)\n",
    "    next(reader)  # Skip the header\n",
    "    for row in reader:\n",
    "        ids_list = ast.literal_eval(row[0])\n",
    "        unique_ids.update(ids_list)\n",
    "\n",
    "# Print the number of unique IDs\n",
    "print(f\"Number of unique IDs: {len(unique_ids)}\")"
   ]
  },
  {
   "cell_type": "markdown",
   "metadata": {},
   "source": [
    "use above to verify the counts after fixing the csvs to be all in one row. \n",
    "\n"
   ]
  },
  {
   "cell_type": "code",
   "execution_count": 11,
   "metadata": {},
   "outputs": [],
   "source": [
    "import os\n",
    "import pandas as pd\n",
    "\n",
    "def combine_ids_to_one_row(folder_path):\n",
    "    for filename in os.listdir(folder_path):\n",
    "        if filename.endswith(\".csv\"):\n",
    "            file_path = os.path.join(folder_path, filename)\n",
    "            df = pd.read_csv(file_path, header=0)\n",
    "            \n",
    "            # Combine all IDs into a single row\n",
    "            all_ids = []\n",
    "            for ids in df['NACCID']:\n",
    "                ids_list = eval(ids) if isinstance(ids, str) else ids\n",
    "                all_ids.extend(ids_list)\n",
    "            \n",
    "            # Create a new DataFrame with a single row of combined IDs\n",
    "            combined_df = pd.DataFrame({'NACCID': [str(all_ids)]})\n",
    "            \n",
    "            # Save the updated DataFrame back to the CSV file\n",
    "            combined_df.to_csv(file_path, index=False)\n",
    "\n",
    "# Specify the folder path containing the CSV files\n",
    "folder_path = 'c:/Users/Andrew/Desktop/AGE/Cohorts'\n",
    "combine_ids_to_one_row(folder_path)"
   ]
  }
 ],
 "metadata": {
  "language_info": {
   "name": "python"
  }
 },
 "nbformat": 4,
 "nbformat_minor": 2
}
