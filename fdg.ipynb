{
 "cells": [
  {
   "cell_type": "markdown",
   "metadata": {},
   "source": [
    "This code needs to be fixed as of 1.16.25 \n"
   ]
  },
  {
   "cell_type": "code",
   "execution_count": 13,
   "metadata": {},
   "outputs": [
    {
     "name": "stdout",
     "output_type": "stream",
     "text": [
      "{'NACCID'}\n",
      "{'NACCID'}\n",
      "Progressors: 1\n",
      "Non-progressors: 0\n"
     ]
    }
   ],
   "source": [
    "import pandas as pd\n",
    "\n",
    "# File paths\n",
    "progressors = '2visit_progressors.csv'\n",
    "non_progressors = '2visit_nonprogressor.csv'\n",
    "\n",
    "def extract_naccid(file_path):\n",
    "    # Read the CSV file\n",
    "    df = pd.read_csv(file_path, header=None)  # Use `header=None` to treat all rows as data\n",
    "    \n",
    "    # Flatten all rows and columns into a single list\n",
    "    all_values = df.values.flatten()\n",
    "    \n",
    "    # Convert to string, clean unwanted characters, and normalize\n",
    "    cleaned_ids = (\n",
    "        pd.Series(all_values)\n",
    "        .dropna()  # Remove NaN values\n",
    "        .astype(str)  # Convert all to string\n",
    "        .str.strip()  # Remove extra spaces\n",
    "        .str.replace(r'[\\[\\]]', '', regex=True)  # Remove brackets\n",
    "        .str.upper()  # Normalize to uppercase\n",
    "    )\n",
    "    \n",
    "    # Filter valid IDs (e.g., only those matching \"NACC\" prefix)\n",
    "    valid_ids = cleaned_ids[cleaned_ids.str.startswith('NACC')]\n",
    "    \n",
    "    return set(valid_ids)\n",
    "\n",
    "# Extract unique IDs from both files\n",
    "unique_progressors = extract_naccid(progressors)\n",
    "print(unique_progressors)\n",
    "unique_non_progressors = extract_naccid(non_progressors)\n",
    "print(unique_non_progressors)\n",
    "# Find matches and calculate counts\n",
    "matches = unique_progressors.intersection(unique_non_progressors)\n",
    "progressors_count = len(matches)\n",
    "non_progressors_count = len(unique_non_progressors - matches)\n",
    "\n",
    "# Print results\n",
    "print(f\"Progressors: {progressors_count}\")\n",
    "print(f\"Non-progressors: {non_progressors_count}\")\n"
   ]
  },
  {
   "cell_type": "code",
   "execution_count": 9,
   "metadata": {},
   "outputs": [
    {
     "name": "stdout",
     "output_type": "stream",
     "text": [
      "Progressors: 0\n",
      "Non-progressors: 1\n"
     ]
    }
   ],
   "source": [
    "import pandas as pd\n",
    "\n",
    "# File paths\n",
    "progressors = '3visit_progressors.csv'\n",
    "non_progressors = '3visit_nonprogressor.csv'\n",
    "\n",
    "# Load data\n",
    "df_progressors = pd.read_csv(progressors)\n",
    "df_non_progressors = pd.read_csv(non_progressors)\n",
    "\n",
    "# Clean NACCID columns\n",
    "df_progressors['NACCID'] = df_progressors['NACCID'].str.strip().str.replace(r'[\\[\\]]', '', regex=True).str.upper()\n",
    "df_non_progressors['NACCID'] = df_non_progressors['NACCID'].str.strip().str.replace(r'[\\[\\]]', '', regex=True).str.upper()\n",
    "\n",
    "# Ensure no NaN values\n",
    "unique_progressors = set(df_progressors['NACCID'].dropna().unique())\n",
    "unique_non_progressors = set(df_non_progressors['NACCID'].dropna().unique())\n",
    "\n",
    "# Find matches and calculate counts\n",
    "matches = unique_progressors.intersection(unique_non_progressors)\n",
    "progressors_count = len(matches)\n",
    "non_progressors_count = len(unique_non_progressors - matches)\n",
    "\n",
    "# Print results\n",
    "print(f\"Progressors: {progressors_count}\")\n",
    "print(f\"Non-progressors: {non_progressors_count}\")\n"
   ]
  },
  {
   "cell_type": "code",
   "execution_count": 10,
   "metadata": {},
   "outputs": [
    {
     "name": "stdout",
     "output_type": "stream",
     "text": [
      "Progressors: 0\n",
      "Non-progressors: 1\n"
     ]
    }
   ],
   "source": [
    "import pandas as pd\n",
    "\n",
    "# File paths\n",
    "progressors = '4visit_progressors.csv'\n",
    "non_progressors = '4visit_nonprogressor.csv'\n",
    "\n",
    "# Load data\n",
    "df_progressors = pd.read_csv(progressors)\n",
    "df_non_progressors = pd.read_csv(non_progressors)\n",
    "\n",
    "# Clean NACCID columns\n",
    "df_progressors['NACCID'] = df_progressors['NACCID'].str.strip().str.replace(r'[\\[\\]]', '', regex=True).str.upper()\n",
    "df_non_progressors['NACCID'] = df_non_progressors['NACCID'].str.strip().str.replace(r'[\\[\\]]', '', regex=True).str.upper()\n",
    "\n",
    "# Ensure no NaN values\n",
    "unique_progressors = set(df_progressors['NACCID'].dropna().unique())\n",
    "unique_non_progressors = set(df_non_progressors['NACCID'].dropna().unique())\n",
    "\n",
    "# Find matches and calculate counts\n",
    "matches = unique_progressors.intersection(unique_non_progressors)\n",
    "progressors_count = len(matches)\n",
    "non_progressors_count = len(unique_non_progressors - matches)\n",
    "\n",
    "# Print results\n",
    "print(f\"Progressors: {progressors_count}\")\n",
    "print(f\"Non-progressors: {non_progressors_count}\")\n"
   ]
  },
  {
   "cell_type": "code",
   "execution_count": 11,
   "metadata": {},
   "outputs": [
    {
     "name": "stdout",
     "output_type": "stream",
     "text": [
      "Progressors: 0\n",
      "Non-progressors: 1\n"
     ]
    }
   ],
   "source": [
    "import pandas as pd\n",
    "\n",
    "# File paths\n",
    "progressors = '5visit_progressors.csv'\n",
    "non_progressors = '5visit_nonprogressor.csv'\n",
    "\n",
    "# Load data\n",
    "df_progressors = pd.read_csv(progressors)\n",
    "df_non_progressors = pd.read_csv(non_progressors)\n",
    "\n",
    "# Clean NACCID columns\n",
    "df_progressors['NACCID'] = df_progressors['NACCID'].str.strip().str.replace(r'[\\[\\]]', '', regex=True).str.upper()\n",
    "df_non_progressors['NACCID'] = df_non_progressors['NACCID'].str.strip().str.replace(r'[\\[\\]]', '', regex=True).str.upper()\n",
    "\n",
    "# Ensure no NaN values\n",
    "unique_progressors = set(df_progressors['NACCID'].dropna().unique())\n",
    "unique_non_progressors = set(df_non_progressors['NACCID'].dropna().unique())\n",
    "\n",
    "# Find matches and calculate counts\n",
    "matches = unique_progressors.intersection(unique_non_progressors)\n",
    "progressors_count = len(matches)\n",
    "non_progressors_count = len(unique_non_progressors - matches)\n",
    "\n",
    "# Print results\n",
    "print(f\"Progressors: {progressors_count}\")\n",
    "print(f\"Non-progressors: {non_progressors_count}\")\n"
   ]
  }
 ],
 "metadata": {
  "kernelspec": {
   "display_name": "venv",
   "language": "python",
   "name": "python3"
  },
  "language_info": {
   "codemirror_mode": {
    "name": "ipython",
    "version": 3
   },
   "file_extension": ".py",
   "mimetype": "text/x-python",
   "name": "python",
   "nbconvert_exporter": "python",
   "pygments_lexer": "ipython3",
   "version": "3.11.2"
  },
  "orig_nbformat": 4,
  "vscode": {
   "interpreter": {
    "hash": "850e7a7503eba322ce259fab1eda763db8d4ea017edac21bdcccf0d7e0c5b590"
   }
  }
 },
 "nbformat": 4,
 "nbformat_minor": 2
}
