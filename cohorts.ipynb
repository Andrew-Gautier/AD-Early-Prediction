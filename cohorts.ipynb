{
 "cells": [
  {
   "cell_type": "markdown",
   "metadata": {},
   "source": [
    "12-17\n",
    "Goal here is to take a groups from the sequences to use as a cohort for feature extraction at different time steps "
   ]
  },
  {
   "cell_type": "code",
   "execution_count": 1,
   "metadata": {},
   "outputs": [],
   "source": [
    "import pandas as pd\n",
    "import matplotlib.pyplot as plt\n",
    "import numpy as np\n",
    "import seaborn as sns\n"
   ]
  },
  {
   "cell_type": "markdown",
   "metadata": {},
   "source": [
    "# Gathering some statistics of: \n",
    "\n",
    "1. How many have a baseline MCI diagnosis\n",
    "2. Individuals who progressed to AD at some point later in the sequence. (presymptomatic AD)\n",
    "3. Indivudals who maintained a MCI diagnosis throughout their surveillance. (non AD dementia etc)\n"
   ]
  },
  {
   "cell_type": "code",
   "execution_count": null,
   "metadata": {},
   "outputs": [
    {
     "name": "stdout",
     "output_type": "stream",
     "text": [
      "Number of sequences that started with MCI and stayed MCI: 2997\n",
      "Number of sequences that started with MCI and transitioned to AD: 1523\n"
     ]
    }
   ],
   "source": [
    "# Read the response_combinations CSV file\n",
    "response_combinations_df = pd.read_csv('response_combinations.csv')\n",
    "\n",
    "# Convert the 'Responses' column from string to list\n",
    "response_combinations_df['Responses'] = response_combinations_df['Responses'].apply(eval)\n",
    "\n",
    "# Filter sequences that start with MCI and have at least two responses\n",
    "mci_start_df = response_combinations_df[response_combinations_df['Responses'].apply(lambda x: x[0] == 'MCI' and len(x) >= 2)]\n",
    "\n",
    "# Count sequences that stayed MCI\n",
    "stayed_mci_count = mci_start_df[mci_start_df['Responses'].apply(lambda x: all(response == 'MCI' for response in x))]['Counts'].sum()\n",
    "\n",
    "# Count sequences that transitioned to AD, excluding mixed sequences\n",
    "transitioned_to_ad_count = mci_start_df[mci_start_df['Responses'].apply(lambda x: 'AD' in x and all(response in ['MCI', 'AD'] for response in x))]['Counts'].sum()\n",
    "\n",
    "# Output the results\n",
    "print(f\"Number of sequences that started with MCI and stayed MCI: {stayed_mci_count}\")\n",
    "print(f\"Number of sequences that started with MCI and transitioned to AD: {transitioned_to_ad_count}\")"
   ]
  }
 ],
 "metadata": {
  "kernelspec": {
   "display_name": "venv",
   "language": "python",
   "name": "python3"
  },
  "language_info": {
   "codemirror_mode": {
    "name": "ipython",
    "version": 3
   },
   "file_extension": ".py",
   "mimetype": "text/x-python",
   "name": "python",
   "nbconvert_exporter": "python",
   "pygments_lexer": "ipython3",
   "version": "3.11.2"
  }
 },
 "nbformat": 4,
 "nbformat_minor": 2
}
