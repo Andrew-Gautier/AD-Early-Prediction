{
 "cells": [
  {
   "cell_type": "markdown",
   "metadata": {},
   "source": [
    "Firstly get all variables we are considering appended to a raw dataframe. \n",
    "Work on the 2visit first as its the largest."
   ]
  },
  {
   "cell_type": "code",
   "execution_count": null,
   "metadata": {},
   "outputs": [
    {
     "name": "stdout",
     "output_type": "stream",
     "text": [
      "                  Prog_ID Progression\n",
      "ID         Visit                     \n",
      "NACC141167 1            0   (0, 0, 0)\n",
      "NACC310984 1            0   (0, 0, 0)\n",
      "NACC591136 1            0   (0, 0, 0)\n",
      "NACC665925 1            0   (0, 0, 0)\n",
      "NACC701804 1            0   (0, 0, 0)\n",
      "...                   ...         ...\n",
      "NACC330027 1            1   (1, 2, 1)\n",
      "NACC879413 1            1   (1, 2, 1)\n",
      "NACC530751 1            1   (1, 2, 1)\n",
      "NACC853772 1            1   (1, 2, 1)\n",
      "NACC977631 1            1   (1, 2, 1)\n",
      "\n",
      "[2273 rows x 2 columns]\n"
     ]
    }
   ],
   "source": [
    "import pandas as pd\n",
    "import matplotlib.pyplot as plt\n",
    "import numpy as np\n",
    "import ast\n",
    "\n",
    "non_prog = pd.read_csv('Cohorts\\\\NonProgressors\\\\cleaned_3visit_nonprogressor.csv')\n",
    "prog = pd.read_csv('Cohorts\\\\Progressors\\\\cleaned_3visit_progressors.csv')\n",
    "\n",
    "# The first two columns will be patient ID and their label (progressor or non-progressor)\n",
    "# The rest of the columns will be the features\n",
    "# Extract IDs from the dataframes\n",
    "\n",
    "\n",
    "# Read the CSV files and extract IDs\n",
    "non_prog_ids = non_prog['NACCID'].tolist()\n",
    "prog_ids = prog['NACCID'].tolist()\n",
    "progvecs = prog.iloc[:, 1:].values\n",
    "nonprogvecs = non_prog.iloc[:, 1:].values\n",
    "\n",
    "# Create a new dataframe with IDs and labels\n",
    "ids = non_prog_ids + prog_ids\n",
    "labels = [0] * len(non_prog_ids) + [1] * len(prog_ids)\n",
    "vectors = np.concatenate((nonprogvecs, progvecs), axis=0)\n",
    "\n",
    "data = []\n",
    "for id, label, vector in zip(ids, labels, vectors):\n",
    "    for visit, value in enumerate(vector, start=1):\n",
    "        data.append((id, visit, label, value))\n",
    "\n",
    "df_combined = pd.DataFrame(data, columns=['ID', 'Visit', 'Prog_ID', 'Progression'])\n",
    "\n",
    "# Set MultiIndex\n",
    "#df_combined.set_index(['ID', 'Visit'], inplace=True)\n",
    "\n",
    "# Print the DataFrame to verify\n",
    "print(df_combined)\n",
    "\n",
    "df_combined.to_csv('Cohorts\\\\3visit_combined.csv')"
   ]
  },
  {
   "cell_type": "markdown",
   "metadata": {},
   "source": [
    "1-27-25\n",
    "Right now there is an issue where the transition from categories (like 0,0 to 0,1) are being malformed. I am going to just manually remove for now as a quick fix because it is a little overcomplicated to handle up to 20 different vector combinations with basic syntax checking for now. \n"
   ]
  },
  {
   "cell_type": "code",
   "execution_count": 20,
   "metadata": {},
   "outputs": [
    {
     "ename": "KeyError",
     "evalue": "'ID'",
     "output_type": "error",
     "traceback": [
      "\u001b[1;31m---------------------------------------------------------------------------\u001b[0m",
      "\u001b[1;31mKeyError\u001b[0m                                  Traceback (most recent call last)",
      "File \u001b[1;32mc:\\Users\\Andrew\\Desktop\\AGE\\venv\\Lib\\site-packages\\pandas\\core\\indexes\\base.py:3805\u001b[0m, in \u001b[0;36mIndex.get_loc\u001b[1;34m(self, key)\u001b[0m\n\u001b[0;32m   3804\u001b[0m \u001b[38;5;28;01mtry\u001b[39;00m:\n\u001b[1;32m-> 3805\u001b[0m     \u001b[38;5;28;01mreturn\u001b[39;00m \u001b[38;5;28;43mself\u001b[39;49m\u001b[38;5;241;43m.\u001b[39;49m\u001b[43m_engine\u001b[49m\u001b[38;5;241;43m.\u001b[39;49m\u001b[43mget_loc\u001b[49m\u001b[43m(\u001b[49m\u001b[43mcasted_key\u001b[49m\u001b[43m)\u001b[49m\n\u001b[0;32m   3806\u001b[0m \u001b[38;5;28;01mexcept\u001b[39;00m \u001b[38;5;167;01mKeyError\u001b[39;00m \u001b[38;5;28;01mas\u001b[39;00m err:\n",
      "File \u001b[1;32mindex.pyx:167\u001b[0m, in \u001b[0;36mpandas._libs.index.IndexEngine.get_loc\u001b[1;34m()\u001b[0m\n",
      "File \u001b[1;32mindex.pyx:196\u001b[0m, in \u001b[0;36mpandas._libs.index.IndexEngine.get_loc\u001b[1;34m()\u001b[0m\n",
      "File \u001b[1;32mpandas\\\\_libs\\\\hashtable_class_helper.pxi:7081\u001b[0m, in \u001b[0;36mpandas._libs.hashtable.PyObjectHashTable.get_item\u001b[1;34m()\u001b[0m\n",
      "File \u001b[1;32mpandas\\\\_libs\\\\hashtable_class_helper.pxi:7089\u001b[0m, in \u001b[0;36mpandas._libs.hashtable.PyObjectHashTable.get_item\u001b[1;34m()\u001b[0m\n",
      "\u001b[1;31mKeyError\u001b[0m: 'ID'",
      "\nThe above exception was the direct cause of the following exception:\n",
      "\u001b[1;31mKeyError\u001b[0m                                  Traceback (most recent call last)",
      "Cell \u001b[1;32mIn[20], line 21\u001b[0m\n\u001b[0;32m     19\u001b[0m uds_df \u001b[38;5;241m=\u001b[39m pd\u001b[38;5;241m.\u001b[39mread_csv(\u001b[38;5;124m'\u001b[39m\u001b[38;5;124muds.csv\u001b[39m\u001b[38;5;124m'\u001b[39m, low_memory\u001b[38;5;241m=\u001b[39m\u001b[38;5;28;01mFalse\u001b[39;00m)\n\u001b[0;32m     20\u001b[0m \u001b[38;5;66;03m# Add new columns to the combined DataFrame\u001b[39;00m\n\u001b[1;32m---> 21\u001b[0m df_combined \u001b[38;5;241m=\u001b[39m \u001b[43madd_columns_from_uds\u001b[49m\u001b[43m(\u001b[49m\u001b[43mdf_combined\u001b[49m\u001b[43m,\u001b[49m\u001b[43m \u001b[49m\u001b[43muds_df\u001b[49m\u001b[43m)\u001b[49m\n\u001b[0;32m     23\u001b[0m \u001b[38;5;66;03m# Print the updated DataFrame to verify\u001b[39;00m\n\u001b[0;32m     24\u001b[0m \u001b[38;5;28mprint\u001b[39m(df_combined)\n",
      "Cell \u001b[1;32mIn[20], line 8\u001b[0m, in \u001b[0;36madd_columns_from_uds\u001b[1;34m(df_combined, uds_df)\u001b[0m\n\u001b[0;32m      6\u001b[0m \u001b[38;5;66;03m# Iterate through the IDs in the first column of df_combined\u001b[39;00m\n\u001b[0;32m      7\u001b[0m \u001b[38;5;28;01mfor\u001b[39;00m index, row \u001b[38;5;129;01min\u001b[39;00m df_combined\u001b[38;5;241m.\u001b[39miterrows():\n\u001b[1;32m----> 8\u001b[0m     \u001b[38;5;28mid\u001b[39m \u001b[38;5;241m=\u001b[39m \u001b[43mrow\u001b[49m\u001b[43m[\u001b[49m\u001b[38;5;124;43m'\u001b[39;49m\u001b[38;5;124;43mID\u001b[39;49m\u001b[38;5;124;43m'\u001b[39;49m\u001b[43m]\u001b[49m\n\u001b[0;32m      9\u001b[0m     sex \u001b[38;5;241m=\u001b[39m uds_df\u001b[38;5;241m.\u001b[39mloc[uds_df[\u001b[38;5;124m'\u001b[39m\u001b[38;5;124mNACCID\u001b[39m\u001b[38;5;124m'\u001b[39m] \u001b[38;5;241m==\u001b[39m \u001b[38;5;28mid\u001b[39m, \u001b[38;5;124m'\u001b[39m\u001b[38;5;124mSEX\u001b[39m\u001b[38;5;124m'\u001b[39m]\u001b[38;5;241m.\u001b[39mvalues\n\u001b[0;32m     10\u001b[0m     educ \u001b[38;5;241m=\u001b[39m uds_df\u001b[38;5;241m.\u001b[39mloc[uds_df[\u001b[38;5;124m'\u001b[39m\u001b[38;5;124mNACCID\u001b[39m\u001b[38;5;124m'\u001b[39m] \u001b[38;5;241m==\u001b[39m \u001b[38;5;28mid\u001b[39m, \u001b[38;5;124m'\u001b[39m\u001b[38;5;124mEDUC\u001b[39m\u001b[38;5;124m'\u001b[39m]\u001b[38;5;241m.\u001b[39mvalues\n",
      "File \u001b[1;32mc:\\Users\\Andrew\\Desktop\\AGE\\venv\\Lib\\site-packages\\pandas\\core\\series.py:1121\u001b[0m, in \u001b[0;36mSeries.__getitem__\u001b[1;34m(self, key)\u001b[0m\n\u001b[0;32m   1118\u001b[0m     \u001b[38;5;28;01mreturn\u001b[39;00m \u001b[38;5;28mself\u001b[39m\u001b[38;5;241m.\u001b[39m_values[key]\n\u001b[0;32m   1120\u001b[0m \u001b[38;5;28;01melif\u001b[39;00m key_is_scalar:\n\u001b[1;32m-> 1121\u001b[0m     \u001b[38;5;28;01mreturn\u001b[39;00m \u001b[38;5;28;43mself\u001b[39;49m\u001b[38;5;241;43m.\u001b[39;49m\u001b[43m_get_value\u001b[49m\u001b[43m(\u001b[49m\u001b[43mkey\u001b[49m\u001b[43m)\u001b[49m\n\u001b[0;32m   1123\u001b[0m \u001b[38;5;66;03m# Convert generator to list before going through hashable part\u001b[39;00m\n\u001b[0;32m   1124\u001b[0m \u001b[38;5;66;03m# (We will iterate through the generator there to check for slices)\u001b[39;00m\n\u001b[0;32m   1125\u001b[0m \u001b[38;5;28;01mif\u001b[39;00m is_iterator(key):\n",
      "File \u001b[1;32mc:\\Users\\Andrew\\Desktop\\AGE\\venv\\Lib\\site-packages\\pandas\\core\\series.py:1237\u001b[0m, in \u001b[0;36mSeries._get_value\u001b[1;34m(self, label, takeable)\u001b[0m\n\u001b[0;32m   1234\u001b[0m     \u001b[38;5;28;01mreturn\u001b[39;00m \u001b[38;5;28mself\u001b[39m\u001b[38;5;241m.\u001b[39m_values[label]\n\u001b[0;32m   1236\u001b[0m \u001b[38;5;66;03m# Similar to Index.get_value, but we do not fall back to positional\u001b[39;00m\n\u001b[1;32m-> 1237\u001b[0m loc \u001b[38;5;241m=\u001b[39m \u001b[38;5;28;43mself\u001b[39;49m\u001b[38;5;241;43m.\u001b[39;49m\u001b[43mindex\u001b[49m\u001b[38;5;241;43m.\u001b[39;49m\u001b[43mget_loc\u001b[49m\u001b[43m(\u001b[49m\u001b[43mlabel\u001b[49m\u001b[43m)\u001b[49m\n\u001b[0;32m   1239\u001b[0m \u001b[38;5;28;01mif\u001b[39;00m is_integer(loc):\n\u001b[0;32m   1240\u001b[0m     \u001b[38;5;28;01mreturn\u001b[39;00m \u001b[38;5;28mself\u001b[39m\u001b[38;5;241m.\u001b[39m_values[loc]\n",
      "File \u001b[1;32mc:\\Users\\Andrew\\Desktop\\AGE\\venv\\Lib\\site-packages\\pandas\\core\\indexes\\base.py:3812\u001b[0m, in \u001b[0;36mIndex.get_loc\u001b[1;34m(self, key)\u001b[0m\n\u001b[0;32m   3807\u001b[0m     \u001b[38;5;28;01mif\u001b[39;00m \u001b[38;5;28misinstance\u001b[39m(casted_key, \u001b[38;5;28mslice\u001b[39m) \u001b[38;5;129;01mor\u001b[39;00m (\n\u001b[0;32m   3808\u001b[0m         \u001b[38;5;28misinstance\u001b[39m(casted_key, abc\u001b[38;5;241m.\u001b[39mIterable)\n\u001b[0;32m   3809\u001b[0m         \u001b[38;5;129;01mand\u001b[39;00m \u001b[38;5;28many\u001b[39m(\u001b[38;5;28misinstance\u001b[39m(x, \u001b[38;5;28mslice\u001b[39m) \u001b[38;5;28;01mfor\u001b[39;00m x \u001b[38;5;129;01min\u001b[39;00m casted_key)\n\u001b[0;32m   3810\u001b[0m     ):\n\u001b[0;32m   3811\u001b[0m         \u001b[38;5;28;01mraise\u001b[39;00m InvalidIndexError(key)\n\u001b[1;32m-> 3812\u001b[0m     \u001b[38;5;28;01mraise\u001b[39;00m \u001b[38;5;167;01mKeyError\u001b[39;00m(key) \u001b[38;5;28;01mfrom\u001b[39;00m \u001b[38;5;21;01merr\u001b[39;00m\n\u001b[0;32m   3813\u001b[0m \u001b[38;5;28;01mexcept\u001b[39;00m \u001b[38;5;167;01mTypeError\u001b[39;00m:\n\u001b[0;32m   3814\u001b[0m     \u001b[38;5;66;03m# If we have a listlike key, _check_indexing_error will raise\u001b[39;00m\n\u001b[0;32m   3815\u001b[0m     \u001b[38;5;66;03m#  InvalidIndexError. Otherwise we fall through and re-raise\u001b[39;00m\n\u001b[0;32m   3816\u001b[0m     \u001b[38;5;66;03m#  the TypeError.\u001b[39;00m\n\u001b[0;32m   3817\u001b[0m     \u001b[38;5;28mself\u001b[39m\u001b[38;5;241m.\u001b[39m_check_indexing_error(key)\n",
      "\u001b[1;31mKeyError\u001b[0m: 'ID'"
     ]
    }
   ],
   "source": [
    "def add_columns_from_uds(df_combined, uds_df):\n",
    "    # Initialize the new columns with default values\n",
    "    df_combined['SEX'] = None\n",
    "    df_combined['EDUC'] = None\n",
    "    \n",
    "    # Iterate through the IDs in the first column of df_combined\n",
    "    for index, row in df_combined.iterrows():\n",
    "        id = row['ID']\n",
    "        sex = uds_df.loc[uds_df['NACCID'] == id, 'SEX'].values\n",
    "        educ = uds_df.loc[uds_df['NACCID'] == id, 'EDUC'].values\n",
    "        \n",
    "        # Update the new columns with the corresponding values from uds_df\n",
    "        df_combined.at[index, 'SEX'] = sex[0] if len(sex) > 0 else None\n",
    "        df_combined.at[index, 'EDUC'] = educ[0] if len(educ) > 0 else None\n",
    "    \n",
    "    return df_combined\n",
    "\n",
    "# Load the global uds.csv DataFrame\n",
    "uds_df = pd.read_csv('uds.csv', low_memory=False)\n",
    "# Add new columns to the combined DataFrame\n",
    "df_combined = add_columns_from_uds(df_combined, uds_df)\n",
    "\n",
    "# Print the updated DataFrame to verify\n",
    "print(df_combined)"
   ]
  }
 ],
 "metadata": {
  "kernelspec": {
   "display_name": "venv",
   "language": "python",
   "name": "python3"
  },
  "language_info": {
   "codemirror_mode": {
    "name": "ipython",
    "version": 3
   },
   "file_extension": ".py",
   "mimetype": "text/x-python",
   "name": "python",
   "nbconvert_exporter": "python",
   "pygments_lexer": "ipython3",
   "version": "3.11.2"
  }
 },
 "nbformat": 4,
 "nbformat_minor": 2
}
