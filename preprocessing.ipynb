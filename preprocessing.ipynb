{
 "cells": [
  {
   "cell_type": "markdown",
   "metadata": {},
   "source": [
    "Firstly get all variables we are considering appended to a raw dataframe. \n",
    "Work on the 2visit first as its the largest."
   ]
  },
  {
   "cell_type": "code",
   "execution_count": 12,
   "metadata": {},
   "outputs": [
    {
     "name": "stdout",
     "output_type": "stream",
     "text": [
      "             ID  Prog_ID\n",
      "0    NACC063570        0\n",
      "1    NACC146119        0\n",
      "2    NACC149720        0\n",
      "3    NACC176310        0\n",
      "4    NACC230335        0\n",
      "..          ...      ...\n",
      "849  NACC255196        1\n",
      "850  NACC308030        1\n",
      "851  NACC344089        1\n",
      "852  NACC428778        1\n",
      "853  NACC811589        1\n",
      "\n",
      "[854 rows x 2 columns]\n"
     ]
    }
   ],
   "source": [
    "import pandas as pd\n",
    "import matplotlib.pyplot as plt\n",
    "import numpy as np\n",
    "\n",
    "non_prog = pd.read_csv('Cohorts\\\\2visit_nonprogressor.csv')\n",
    "prog = pd.read_csv('Cohorts\\\\2visit_progressors.csv')\n",
    "\n",
    "\n",
    "# The first two columns will be patient ID and their label (progressor or non-progressor)\n",
    "# The rest of the columns will be the features\n",
    "# Extract IDs from the dataframes\n",
    "non_prog_ids = non_prog.iloc[0, 0].strip(\"[]\").replace(\"'\", \"\").split(\", \")\n",
    "prog_ids = prog.iloc[0, 0].strip(\"[]\").replace(\"'\", \"\").split(\", \")\n",
    "\n",
    "# Create a new dataframe with IDs and labels\n",
    "ids = non_prog_ids + prog_ids\n",
    "labels = [0] * len(non_prog_ids) + [1] * len(prog_ids)\n",
    "\n",
    "df_combined = pd.DataFrame({'ID': ids, 'Prog_ID': labels})\n",
    "\n",
    "# Print the dataframe to verify\n",
    "print(df_combined)\n"
   ]
  },
  {
   "cell_type": "code",
   "execution_count": 13,
   "metadata": {},
   "outputs": [
    {
     "name": "stdout",
     "output_type": "stream",
     "text": [
      "           ID  Prog_ID SEX EDUC\n",
      "0  NACC063570        0   1   14\n",
      "1  NACC146119        0   2   16\n",
      "2  NACC149720        0   1   20\n",
      "3  NACC176310        0   2   13\n",
      "4  NACC230335        0   2   12\n"
     ]
    }
   ],
   "source": [
    "def add_columns_from_uds(df_combined, uds_df):\n",
    "    # Initialize the new columns with default values\n",
    "    df_combined['SEX'] = None\n",
    "    df_combined['EDUC'] = None\n",
    "    \n",
    "    # Iterate through the IDs in the first column of df_combined\n",
    "    for index, row in df_combined.iterrows():\n",
    "        id = row['ID']\n",
    "        sex = uds_df.loc[uds_df['NACCID'] == id, 'SEX'].values\n",
    "        educ = uds_df.loc[uds_df['NACCID'] == id, 'EDUC'].values\n",
    "        \n",
    "        # Update the new columns with the corresponding values from uds_df\n",
    "        df_combined.at[index, 'SEX'] = sex[0] if len(sex) > 0 else None\n",
    "        df_combined.at[index, 'EDUC'] = educ[0] if len(educ) > 0 else None\n",
    "    \n",
    "    return df_combined\n",
    "\n",
    "# Load the global uds.csv DataFrame\n",
    "uds_df = pd.read_csv('uds.csv', low_memory=False)\n",
    "# Add new columns to the combined DataFrame\n",
    "df_combined = add_columns_from_uds(df_combined, uds_df)\n",
    "\n",
    "# Print the updated DataFrame to verify\n",
    "print(df_combined)"
   ]
  }
 ],
 "metadata": {
  "kernelspec": {
   "display_name": "venv",
   "language": "python",
   "name": "python3"
  },
  "language_info": {
   "codemirror_mode": {
    "name": "ipython",
    "version": 3
   },
   "file_extension": ".py",
   "mimetype": "text/x-python",
   "name": "python",
   "nbconvert_exporter": "python",
   "pygments_lexer": "ipython3",
   "version": "3.11.2"
  }
 },
 "nbformat": 4,
 "nbformat_minor": 2
}
