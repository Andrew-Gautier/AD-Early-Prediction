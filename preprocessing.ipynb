{
 "cells": [
  {
   "cell_type": "markdown",
   "metadata": {},
   "source": [
    "Firstly get all variables we are considering appended to a raw dataframe. \n",
    "Work on the 2visit first as its the largest."
   ]
  },
  {
   "cell_type": "code",
   "execution_count": 4,
   "metadata": {},
   "outputs": [
    {
     "name": "stdout",
     "output_type": "stream",
     "text": [
      "             ID  Prog_ID\n",
      "0    NACC063570        0\n",
      "1    NACC146119        0\n",
      "2    NACC149720        0\n",
      "3    NACC176310        0\n",
      "4    NACC230335        0\n",
      "..          ...      ...\n",
      "849  NACC255196        1\n",
      "850  NACC308030        1\n",
      "851  NACC344089        1\n",
      "852  NACC428778        1\n",
      "853  NACC811589        1\n",
      "\n",
      "[854 rows x 2 columns]\n"
     ]
    }
   ],
   "source": [
    "import pandas as pd\n",
    "import matplotlib.pyplot as plt\n",
    "import numpy as np\n",
    "\n",
    "non_prog = pd.read_csv('Cohorts\\\\2visit_nonprogressor.csv')\n",
    "prog = pd.read_csv('Cohorts\\\\2visit_progressors.csv')\n",
    "\n",
    "\n",
    "# The first two columns will be patient ID and their label (progressor or non-progressor)\n",
    "# The rest of the columns will be the features\n",
    "# Extract IDs from the dataframes\n",
    "non_prog_ids = non_prog.iloc[0, 0].strip(\"[]\").replace(\"'\", \"\").split(\", \")\n",
    "prog_ids = prog.iloc[0, 0].strip(\"[]\").replace(\"'\", \"\").split(\", \")\n",
    "\n",
    "# Create a new dataframe with IDs and labels\n",
    "ids = non_prog_ids + prog_ids\n",
    "labels = [0] * len(non_prog_ids) + [1] * len(prog_ids)\n",
    "\n",
    "df_combined = pd.DataFrame({'ID': ids, 'Prog_ID': labels})\n",
    "\n",
    "# Print the dataframe to verify\n",
    "print(df_combined)\n"
   ]
  },
  {
   "cell_type": "code",
   "execution_count": 5,
   "metadata": {},
   "outputs": [
    {
     "name": "stderr",
     "output_type": "stream",
     "text": [
      "C:\\Users\\Andrew\\AppData\\Local\\Temp\\ipykernel_15424\\3636059713.py:8: DtypeWarning: Columns (20,22,24,26,28,41,44,46,48,51,61,63,65,67,69,71,88,89,90,91,92,93,94,95,96,97,98,99,100,101,102,103,104,105,106,107,108,109,110,111,112,113,114,134,156,165,176,179,189,217,220,222,224,226,228,230,232,234,236,238,240,242,244,246,248,250,252,254,256,258,260,262,264,266,268,270,272,382,397,399,401,419,421,423,432,445,454,494,574,605,613,638,674,690,704,707,710,715,727,738,744,746,803,804,809,810,811,812,820,831,833,835,837,843,904,959,960,961,969,970,971,972,982,1004,1007,1010) have mixed types. Specify dtype option on import or set low_memory=False.\n",
      "  uds = pd.read_csv('uds.csv')\n"
     ]
    },
    {
     "name": "stdout",
     "output_type": "stream",
     "text": [
      "           ID  Prog_ID  New_Column_1  New_Column_2\n",
      "0  NACC063570        0             1             0\n",
      "1  NACC146119        0             1             0\n",
      "2  NACC149720        0             1             0\n",
      "3  NACC176310        0             1             0\n",
      "4  NACC230335        0             1             0\n"
     ]
    }
   ],
   "source": [
    "def add_columns(df, new_columns):\n",
    "    for column_name, column_value in new_columns.items():\n",
    "        if callable(column_value):\n",
    "            df[column_name] = df.apply(column_value, axis=1)\n",
    "        else:\n",
    "            df[column_name] = column_value\n",
    "    return df\n",
    "uds = pd.read_csv('uds.csv')\n",
    "sex = 'SEX'\n",
    "educ = 'EDUC'\n",
    "#\n",
    "\n",
    "# Example usage:\n",
    "# Define new columns to add\n",
    "new_columns = {\n",
    "    'New_Column_1': [1] * len(df_combined),  # Add a column with constant value\n",
    "    'New_Column_2': lambda row: 1 if row['Prog_ID'] == 1 else 0  # Add a column based on a function\n",
    "}\n",
    "\n",
    "# Add new columns to the dataframe\n",
    "df_combined = add_columns(df_combined, new_columns)\n",
    "\n",
    "# Print the updated dataframe to verify\n",
    "print(df_combined.head())"
   ]
  }
 ],
 "metadata": {
  "kernelspec": {
   "display_name": "venv",
   "language": "python",
   "name": "python3"
  },
  "language_info": {
   "codemirror_mode": {
    "name": "ipython",
    "version": 3
   },
   "file_extension": ".py",
   "mimetype": "text/x-python",
   "name": "python",
   "nbconvert_exporter": "python",
   "pygments_lexer": "ipython3",
   "version": "3.11.2"
  }
 },
 "nbformat": 4,
 "nbformat_minor": 2
}
