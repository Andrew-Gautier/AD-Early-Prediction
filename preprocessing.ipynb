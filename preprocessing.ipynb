{
 "cells": [
  {
   "cell_type": "markdown",
   "metadata": {},
   "source": [
    "Firstly get all variables we are considering appended to a raw dataframe. \n",
    "Work on the 2visit first as its the largest."
   ]
  },
  {
   "cell_type": "code",
   "execution_count": null,
   "metadata": {},
   "outputs": [
    {
     "name": "stdout",
     "output_type": "stream",
     "text": [
      "            ID  Visit  Prog_ID  \\\n",
      "0   NACC263960      1        0   \n",
      "1   NACC276815      1        0   \n",
      "2   NACC303378      1        0   \n",
      "3   NACC642177      1        0   \n",
      "4   NACC038012      1        0   \n",
      "5   NACC147305      1        0   \n",
      "6   NACC270893      1        0   \n",
      "7   NACC378691      1        0   \n",
      "8   NACC621217      1        0   \n",
      "9   NACC687774      1        0   \n",
      "10  NACC961626      1        0   \n",
      "11  NACC227022      1        0   \n",
      "12  NACC261581      1        0   \n",
      "13  NACC668158      1        0   \n",
      "\n",
      "                                          Progression  \n",
      "0   (0, 0, 0, 0, 0, 0, 0, 0, 0, 0, 0, 0, 0, 0, 0, ...  \n",
      "1   (0, 0, 0, 0, 0, 0, 0, 0, 0, 0, 0, 0, 0, 0, 0, ...  \n",
      "2   (0, 0, 0, 0, 0, 0, 0, 0, 0, 0, 0, 0, 0, 0, 0, ...  \n",
      "3   (0, 0, 0, 0, 0, 0, 0, 0, 0, 0, 0, 0, 0, 0, 0, ...  \n",
      "4   (0, 0, 0, 0, 0, 0, 0, 0, 0, 0, 0, 0, 0, 0, 0, ...  \n",
      "5   (0, 0, 0, 0, 0, 0, 0, 0, 0, 0, 0, 0, 0, 0, 0, ...  \n",
      "6   (0, 0, 0, 0, 0, 0, 0, 0, 0, 0, 0, 0, 0, 0, 0, ...  \n",
      "7   (0, 0, 0, 0, 0, 0, 0, 0, 0, 0, 0, 0, 0, 0, 0, ...  \n",
      "8   (0, 0, 0, 0, 0, 0, 0, 0, 0, 0, 0, 0, 0, 0, 0, ...  \n",
      "9   (0, 0, 0, 0, 0, 0, 0, 0, 0, 0, 0, 0, 0, 0, 0, ...  \n",
      "10  (0, 0, 0, 0, 0, 0, 0, 0, 0, 0, 0, 0, 0, 0, 0, ...  \n",
      "11  (0, 0, 0, 0, 0, 0, 0, 0, 0, 0, 0, 0, 0, 0, 0, ...  \n",
      "12  (0, 0, 0, 0, 0, 0, 0, 0, 0, 0, 0, 0, 0, 0, 0, ...  \n",
      "13  (0, 0, 0, 0, 0, 0, 0, 0, 0, 0, 0, 0, 0, 0, 0, ...  \n"
     ]
    }
   ],
   "source": [
    "import pandas as pd\n",
    "import matplotlib.pyplot as plt\n",
    "import numpy as np\n",
    "import ast\n",
    "\n",
    "\n",
    "non_prog = pd.read_csv('Cohorts\\\\NonProgressors\\\\cleaned_20visit_nonprogressor.csv')\n",
    "prog = pd.read_csv('Cohorts\\\\Progressors\\\\cleaned_20visit_progressors.csv')\n",
    "\n",
    "# Read the CSV files and extract IDs\n",
    "non_prog_ids = non_prog['NACCID'].tolist()\n",
    "prog_ids = prog['NACCID'].tolist()\n",
    "progvecs = prog.iloc[:, 1:].values\n",
    "nonprogvecs = non_prog.iloc[:, 1:].values\n",
    "\n",
    "# Create a new dataframe with IDs and labels\n",
    "ids = non_prog_ids + prog_ids\n",
    "labels = [0] * len(non_prog_ids) + [1] * len(prog_ids)\n",
    "vectors = np.concatenate((nonprogvecs, progvecs), axis=0)\n",
    "\n",
    "data = []\n",
    "for id, label, vector in zip(ids, labels, vectors):\n",
    "    for visit, value in enumerate(vector, start=1):\n",
    "        data.append((id, visit, label, value))\n",
    "\n",
    "df_combined = pd.DataFrame(data, columns=['ID', 'Visit', 'Prog_ID', 'Progression'])\n",
    "\n",
    "# Set MultiIndex\n",
    "#df_combined.set_index(['ID', 'Visit'], inplace=True)\n",
    "\n",
    "# Print the DataFrame to verify\n",
    "print(df_combined)\n",
    "\n",
    "df_combined.to_csv('Cohorts\\\\20visit_combined.csv')"
   ]
  },
  {
   "cell_type": "markdown",
   "metadata": {},
   "source": [
    "1-27-25\n",
    "Right now there is an issue where the transition from categories (like 0,0 to 0,1) are being malformed. I am going to just manually remove for now as a quick fix because it is a little overcomplicated to handle up to 20 different vector combinations with basic syntax checking for now. \n"
   ]
  },
  {
   "cell_type": "code",
   "execution_count": 24,
   "metadata": {},
   "outputs": [
    {
     "name": "stdout",
     "output_type": "stream",
     "text": [
      "              ID  Visit  Prog_ID Progression SEX EDUC\n",
      "0     NACC141167      1        0   (0, 0, 0)   2   12\n",
      "1     NACC310984      1        0   (0, 0, 0)   1   14\n",
      "2     NACC591136      1        0   (0, 0, 0)   2   18\n",
      "3     NACC665925      1        0   (0, 0, 0)   2   16\n",
      "4     NACC701804      1        0   (0, 0, 0)   1   16\n",
      "...          ...    ...      ...         ...  ..  ...\n",
      "2268  NACC330027      1        1   (1, 2, 1)   2   13\n",
      "2269  NACC879413      1        1   (1, 2, 1)   2   12\n",
      "2270  NACC530751      1        1   (1, 2, 1)   2   18\n",
      "2271  NACC853772      1        1   (1, 2, 1)   1   12\n",
      "2272  NACC977631      1        1   (1, 2, 1)   1   16\n",
      "\n",
      "[2273 rows x 6 columns]\n"
     ]
    }
   ],
   "source": [
    "def add_columns_from_uds(df_combined, uds_df):\n",
    "    # Initialize the new columns with default values\n",
    "    df_combined['SEX'] = None\n",
    "    df_combined['EDUC'] = None\n",
    "    \n",
    "    # Iterate through the IDs in the first column of df_combined\n",
    "    for index, row in df_combined.iterrows():\n",
    "        id = row['ID']\n",
    "        sex = uds_df.loc[uds_df['NACCID'] == id, 'SEX'].values\n",
    "        educ = uds_df.loc[uds_df['NACCID'] == id, 'EDUC'].values\n",
    "        \n",
    "        # Update the new columns with the corresponding values from uds_df\n",
    "        df_combined.at[index, 'SEX'] = sex[0] if len(sex) > 0 else None\n",
    "        df_combined.at[index, 'EDUC'] = educ[0] if len(educ) > 0 else None\n",
    "    \n",
    "    return df_combined\n",
    "\n",
    "# Load the global uds.csv DataFrame\n",
    "uds_df = pd.read_csv('uds.csv', low_memory=False)\n",
    "# Add new columns to the combined DataFrame\n",
    "df_combined = add_columns_from_uds(df_combined, uds_df)\n",
    "\n",
    "# Print the updated DataFrame to verify\n",
    "print(df_combined)"
   ]
  }
 ],
 "metadata": {
  "kernelspec": {
   "display_name": "venv",
   "language": "python",
   "name": "python3"
  },
  "language_info": {
   "codemirror_mode": {
    "name": "ipython",
    "version": 3
   },
   "file_extension": ".py",
   "mimetype": "text/x-python",
   "name": "python",
   "nbconvert_exporter": "python",
   "pygments_lexer": "ipython3",
   "version": "3.11.2"
  }
 },
 "nbformat": 4,
 "nbformat_minor": 2
}
